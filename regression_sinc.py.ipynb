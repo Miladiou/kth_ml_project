{
 "cells": [
  {
   "cell_type": "code",
   "execution_count": 150,
   "metadata": {},
   "outputs": [],
   "source": [
    "# RVM regression for sinc function - Rémi Lacombe - January 2018\n",
    "\n",
    "import numpy as np\n",
    "import matplotlib.pyplot as plt"
   ]
  },
  {
   "cell_type": "code",
   "execution_count": 151,
   "metadata": {},
   "outputs": [
    {
     "data": {
      "image/png": "[encoded data removed]",
      "text/plain": [
       "<matplotlib.figure.Figure at 0x7fad8ab29b50>"
      ]
     },
     "metadata": {},
     "output_type": "display_data"
    }
   ],
   "source": [
    "# Creates dataset\n",
    "\n",
    "# 0: generates noise-free data/1: adds Gaussian noise to generated data/2: adds uniform noise to generated data\n",
    "noise_option = 0\n",
    "\n",
    "N = 100\n",
    "global_sigma = 0.2\n",
    "\n",
    "X = np.linspace(-10,10,N)\n",
    "T = np.sin(abs(X))/abs(X)\n",
    "\n",
    "if (noise_option == 1):\n",
    "    t = T + np.random.normal(0, global_sigma, N)\n",
    "elif (noise_option == 2):\n",
    "    t = T + np.random.uniform(-global_sigma, global_sigma, N)\n",
    "else:\n",
    "    t = T\n",
    "    \n",
    "plt.plot(X,T,linewidth=1)\n",
    "plt.plot(X,t,'r.')\n",
    "plt.show()"
   ]
  },
  {
   "cell_type": "code",
   "execution_count": 152,
   "metadata": {},
   "outputs": [],
   "source": [
    "# Creates kernel function\n",
    "\n",
    "def linear_spline_kernel(x,y):\n",
    "    min_value = min(x,y)\n",
    "    return 1 + x*y + x*y*min_value - 0.5*(x+y)*pow(min_value,2) + (1./3)*pow(min_value,3)\n"
   ]
  },
  {
   "cell_type": "code",
   "execution_count": 153,
   "metadata": {},
   "outputs": [
    {
     "name": "stdout",
     "output_type": "stream",
     "text": [
      "[  0  17  30  55  64  84  85 100]\n",
      "0.189582001937\n"
     ]
    }
   ],
   "source": [
    "# Computes re-estimation of hyperparameters alpha AND sigma (Beta version)\n",
    "\n",
    "sigma = global_sigma\n",
    "\n",
    "# The hyperparameters alpha_i are initially taken to be 1\n",
    "alpha = np.ones(N+1)\n",
    "A = np.diag(alpha)\n",
    "\n",
    "# Keeps track of the indices of the relevant vectors\n",
    "alpha_indices = np.linspace(0,N,N+1)\n",
    "alpha_indices = alpha_indices.astype(int)\n",
    "\n",
    "new_t = t\n",
    "\n",
    "# Deals with the special case where w_0 is not relevant\n",
    "not_removed_0 = 1\n",
    "\n",
    "# Creates the design matrix Phi\n",
    "Phi = np.ones((N,N+1))\n",
    "\n",
    "# Note: this assumes that the kernel function is symmetric  \n",
    "for i in range(N):\n",
    "    \n",
    "    for j in range(i+1):\n",
    "        \n",
    "        Phi[i][j+1] = linear_spline_kernel(X[i],X[j])\n",
    "        Phi[j][i+1] = Phi[i][j+1]\n",
    "        \n",
    "new_Phi = Phi\n",
    "\n",
    "\n",
    "# Main loop for the re-estimation of alpha\n",
    "for i in range(30000):\n",
    "    \n",
    "    k = len(alpha_indices)\n",
    "    small_Sigma = np.linalg.inv((1./pow(sigma,2))*np.dot(np.transpose(new_Phi),new_Phi) + A)\n",
    "    \n",
    "    B = np.zeros((k,N+1))\n",
    "    B[:,alpha_indices] = small_Sigma\n",
    "    \n",
    "    Sigma = np.zeros((N+1,N+1))\n",
    "    Sigma[alpha_indices,:] = B\n",
    "    \n",
    "    mu = (1./pow(sigma,2))*np.dot(Sigma,np.dot(np.transpose(Phi),t))\n",
    "    \n",
    "    gamma = 1 - alpha*np.diag(small_Sigma)\n",
    "    alpha = gamma/pow(mu[alpha_indices],2)\n",
    "    \n",
    "    if (noise_option != 0):\n",
    "        sigma = np.sqrt(pow(np.linalg.norm(t - np.dot(Phi,mu),2),2)/(N-sum(gamma)))\n",
    "        \n",
    "    # Prunes basis functions for which alpha_i tends to infinity\n",
    "    prune = np.where(gamma < 2.22e-16)[0]\n",
    "    \n",
    "    # Keep tracks of the indices that are removed\n",
    "    alpha_indices = np.delete(alpha_indices,prune)\n",
    "    \n",
    "    # There might be a problem with having to remove hyperparameter of index 0\n",
    "    if ((0 in prune) & (not_removed_0)):\n",
    "        \n",
    "        prune = np.delete(prune,0)\n",
    "        not_removed_0 = 0\n",
    "        \n",
    "        alpha = np.delete(alpha,0)\n",
    "        new_Phi = np.delete(new_Phi,0,1)\n",
    "        \n",
    "    if (len(prune) > 0):\n",
    "        \n",
    "        alpha = np.delete(alpha,prune)\n",
    "\n",
    "        # Checks if hyperparameter of index 0 has been removed\n",
    "        if (not_removed_0):\n",
    "            #new_Phi = np.delete(new_Phi,prune-1,0)\n",
    "            new_Phi = np.delete(new_Phi,prune,1)\n",
    "            new_t = np.delete(new_t,prune-1)\n",
    "        else:\n",
    "            #new_Phi = np.delete(new_Phi,prune,0)\n",
    "            new_Phi = np.delete(new_Phi,prune,1)\n",
    "            new_t = np.delete(new_t,prune)\n",
    "    \n",
    "    A = np.diag(alpha)\n",
    "    \n",
    "print(alpha_indices)\n",
    "print(sigma)"
   ]
  },
  {
   "cell_type": "code",
   "execution_count": 154,
   "metadata": {},
   "outputs": [
    {
     "data": {
      "image/png": "[encoded data removed]",
      "text/plain": [
       "<matplotlib.figure.Figure at 0x7fad8ad0f4d0>"
      ]
     },
     "metadata": {},
     "output_type": "display_data"
    }
   ],
   "source": [
    "# Makes prediction for new points\n",
    "\n",
    "X_test = np.linspace(-10,10,10*N)\n",
    "Y_test = np.zeros(10*N)\n",
    "\n",
    "# Particular case where index 0 is significant\n",
    "if (alpha_indices[0] == 0):\n",
    "    \n",
    "    relevant_0 = True\n",
    "    alpha_indices = np.delete(alpha_indices,0)\n",
    "    relevance_vectors = X[alpha_indices-1]\n",
    "    \n",
    "else:\n",
    "    \n",
    "    relevant_0 = False\n",
    "    relevance_vectors = X[alpha_indices-1]\n",
    "\n",
    "for i in range(10*N):\n",
    "    \n",
    "    result = 0\n",
    "    \n",
    "    if (relevant_0):\n",
    "        result += mu[0]\n",
    "    \n",
    "    for j in range(len(alpha_indices)):\n",
    "        \n",
    "        result += mu[alpha_indices[j]]*linear_spline_kernel(X_test[i],relevance_vectors[j])\n",
    "        \n",
    "    Y_test[i] = result\n",
    "\n",
    "# Plots the estimator function and circles the relevant vectors\n",
    "plt.plot(X, T, 'b--', linewidth=1)\n",
    "plt.plot(X_test, Y_test)\n",
    "plt.plot(X, t, 'r.')\n",
    "plt.scatter(relevance_vectors, t[alpha_indices-1], s=100, facecolors='none', edgecolors='b') \n",
    "plt.show()\n"
   ]
  },
  {
   "cell_type": "code",
   "execution_count": 155,
   "metadata": {},
   "outputs": [
    {
     "name": "stdout",
     "output_type": "stream",
     "text": [
      "0.105782054196\n",
      "0.0523099989519\n"
     ]
    }
   ],
   "source": [
    "# Computes the errors of the estimator compared to the sinc function\n",
    "\n",
    "# Maximum distance between estimator and function\n",
    "T_test = np.sin(abs(X_test))/abs(X_test)\n",
    "error_test = abs(T_test-Y_test)\n",
    "\n",
    "print(max(error_test))\n",
    "\n",
    "# Root mean square deviation\n",
    "\n",
    "print(np.sqrt(sum(error_test*error_test)/(10*N)))\n"
   ]
  }
 ],
 "metadata": {
  "kernelspec": {
   "display_name": "Python 2",
   "language": "python",
   "name": "python2"
  },
  "language_info": {
   "codemirror_mode": {
    "name": "ipython",
    "version": 2
   },
   "file_extension": ".py",
   "mimetype": "text/x-python",
   "name": "python",
   "nbconvert_exporter": "python",
   "pygments_lexer": "ipython2",
   "version": "2.7.12"
  }
 },
 "nbformat": 4,
 "nbformat_minor": 2
}
